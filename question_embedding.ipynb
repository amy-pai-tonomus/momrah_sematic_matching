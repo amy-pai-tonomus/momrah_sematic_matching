{
 "cells": [
  {
   "cell_type": "code",
   "execution_count": 1,
   "id": "eb689f62",
   "metadata": {},
   "outputs": [],
   "source": [
    "%run setting.ipynb"
   ]
  },
  {
   "cell_type": "code",
   "execution_count": 2,
   "id": "5fc98504",
   "metadata": {},
   "outputs": [],
   "source": [
    "from sentence_transformers import SentenceTransformer\n",
    "\n",
    "model = SentenceTransformer('sentence-transformers/all-MiniLM-L6-v2')"
   ]
  },
  {
   "cell_type": "markdown",
   "id": "d90fe6be",
   "metadata": {},
   "source": [
    "sentences = [\"This is an example sentence\"]\n",
    "\n",
    "embeddings = model.encode(sentences)[0]\n",
    "print(embeddings)"
   ]
  },
  {
   "cell_type": "code",
   "execution_count": 3,
   "id": "61976f19",
   "metadata": {},
   "outputs": [],
   "source": [
    "def embedding_text(sentence):\n",
    "    try:\n",
    "        return model.encode([sentence])[0]\n",
    "    except:\n",
    "        return None"
   ]
  },
  {
   "cell_type": "markdown",
   "id": "65599685",
   "metadata": {},
   "source": [
    "# read data"
   ]
  },
  {
   "cell_type": "code",
   "execution_count": 4,
   "id": "badacec6",
   "metadata": {},
   "outputs": [],
   "source": [
    "data = pd.read_excel('MOMRAH_GPT_qa_pairs.xlsx')"
   ]
  },
  {
   "cell_type": "markdown",
   "id": "8a34ff30",
   "metadata": {},
   "source": [
    "# embedding of question"
   ]
  },
  {
   "cell_type": "code",
   "execution_count": 5,
   "id": "640f6758",
   "metadata": {},
   "outputs": [],
   "source": [
    "data['question_embedding'] = data['question'].apply(embedding_text)"
   ]
  },
  {
   "cell_type": "markdown",
   "id": "55c8d8b0",
   "metadata": {},
   "source": [
    "# save to a json file"
   ]
  },
  {
   "cell_type": "code",
   "execution_count": 6,
   "id": "c761c3d1",
   "metadata": {},
   "outputs": [],
   "source": [
    "data.to_json(\n",
    "    os.path.join(\n",
    "    data_path,\n",
    "    'question_embedding.json',\n",
    "    ),\n",
    "    lines = True,\n",
    "    orient = 'records',\n",
    ")"
   ]
  },
  {
   "cell_type": "markdown",
   "id": "dbfc6b43",
   "metadata": {},
   "source": [
    "# end"
   ]
  }
 ],
 "metadata": {
  "kernelspec": {
   "display_name": "Python 3 (ipykernel)",
   "language": "python",
   "name": "python3"
  },
  "language_info": {
   "codemirror_mode": {
    "name": "ipython",
    "version": 3
   },
   "file_extension": ".py",
   "mimetype": "text/x-python",
   "name": "python",
   "nbconvert_exporter": "python",
   "pygments_lexer": "ipython3",
   "version": "3.10.6"
  }
 },
 "nbformat": 4,
 "nbformat_minor": 5
}
